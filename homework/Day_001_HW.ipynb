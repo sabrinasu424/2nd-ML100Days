{
 "cells": [
  {
   "cell_type": "markdown",
   "metadata": {},
   "source": [
    "# HW1"
   ]
  },
  {
   "cell_type": "markdown",
   "metadata": {},
   "source": [
    "請上 Kaggle, 在 Competitions 或 Dataset 中找一組競賽或資料並寫下：\n",
    "1. 你選的這組資料為何重要"
   ]
  },
  {
   "cell_type": "raw",
   "metadata": {},
   "source": [
    "我選擇的資料集是: Heart Disease UCI https://www.kaggle.com/ronitf/heart-disease-uci\n",
    "他很重要因為她對世界能有所貢獻，例如偵測心臟病。"
   ]
  },
  {
   "cell_type": "markdown",
   "metadata": {},
   "source": [
    "2. 資料從何而來 (tips: 譬如提供者是誰、以什麼方式蒐集)"
   ]
  },
  {
   "cell_type": "raw",
   "metadata": {},
   "source": [
    "他的資料是由以下幾位國外醫生教授所建立\n",
    "1. Hungarian Institute of Cardiology. Budapest: Andras Janosi, M.D. \n",
    "2. University Hospital, Zurich, Switzerland: William Steinbrunn, M.D. \n",
    "3. University Hospital, Basel, Switzerland: Matthias Pfisterer, M.D. \n",
    "4. V.A. Medical Center, Long Beach and Cleveland Clinic Foundation: Robert Detrano, M.D., Ph.D.\n",
    "並由David W. Aha 提供。"
   ]
  },
  {
   "cell_type": "markdown",
   "metadata": {},
   "source": [
    "3. 蒐集而來的資料型態為何"
   ]
  },
  {
   "cell_type": "raw",
   "metadata": {},
   "source": [
    "為結構化資料(表格)"
   ]
  },
  {
   "cell_type": "markdown",
   "metadata": {},
   "source": [
    "4. 這組資料想解決的問題如何評估"
   ]
  },
  {
   "cell_type": "raw",
   "metadata": {},
   "source": [
    "資料可用來進行分類，找出心臟病患者的特徵，因此可以用Precision, AUC, MAP...等衡量。"
   ]
  },
  {
   "cell_type": "markdown",
   "metadata": {},
   "source": [
    "# HW2"
   ]
  },
  {
   "cell_type": "markdown",
   "metadata": {},
   "source": [
    "想像你經營一個自由載客車隊，你希望能透過數據分析以提升業績，請你思考並描述你如何規劃整體的分析/解決方案：\n",
    "1. 核心問題為何 (tips：如何定義 「提升業績 & 你的假設」)"
   ]
  },
  {
   "cell_type": "raw",
   "metadata": {},
   "source": [
    "希望能提高利潤，增加使用率，並假設本服務的使用客群為上班族。"
   ]
  },
  {
   "cell_type": "markdown",
   "metadata": {},
   "source": [
    "2. 資料從何而來 (tips：哪些資料可能會對你想問的問題產生影響 & 資料如何蒐集)"
   ]
  },
  {
   "cell_type": "raw",
   "metadata": {},
   "source": [
    "蒐集使用者及潛在使用者的相關資訊，通過會員資料或是問卷的方式蒐集。"
   ]
  },
  {
   "cell_type": "markdown",
   "metadata": {},
   "source": [
    "3. 蒐集而來的資料型態為何"
   ]
  },
  {
   "cell_type": "raw",
   "metadata": {},
   "source": [
    "蒐集來的資料應為結構化的資料，進行分析。"
   ]
  },
  {
   "cell_type": "markdown",
   "metadata": {},
   "source": [
    "4. 你要回答的問題，其如何評估 (tips：你的假設如何驗證)"
   ]
  },
  {
   "cell_type": "raw",
   "metadata": {},
   "source": [
    "將蒐集而來的資料進行分類後，計算上班族使用意願高的正確率以驗證。"
   ]
  }
 ],
 "metadata": {
  "kernelspec": {
   "display_name": "Python 3",
   "language": "python",
   "name": "python3"
  },
  "language_info": {
   "codemirror_mode": {
    "name": "ipython",
    "version": 3
   },
   "file_extension": ".py",
   "mimetype": "text/x-python",
   "name": "python",
   "nbconvert_exporter": "python",
   "pygments_lexer": "ipython3",
   "version": "3.7.3"
  }
 },
 "nbformat": 4,
 "nbformat_minor": 2
}
