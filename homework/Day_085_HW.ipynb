{
 "cells": [
  {
   "cell_type": "markdown",
   "metadata": {},
   "source": [
    "## Work\n",
    "1. 試改變 monitor \"Validation Accuracy\" 並比較結果\n",
    "2. 調整 earlystop 的等待次數至 10, 25 並比較結果"
   ]
  },
  {
   "cell_type": "code",
   "execution_count": 1,
   "metadata": {},
   "outputs": [
    {
     "name": "stderr",
     "output_type": "stream",
     "text": [
      "Using TensorFlow backend.\n"
     ]
    }
   ],
   "source": [
    "import os\n",
    "import keras\n",
    "import matplotlib.pyplot as plt\n",
    "%matplotlib inline\n",
    "\n",
    "\n",
    "# Disable GPU\n",
    "os.environ[\"CUDA_VISIBLE_DEVICES\"] = \"\""
   ]
  },
  {
   "cell_type": "code",
   "execution_count": 2,
   "metadata": {},
   "outputs": [],
   "source": [
    "train, test = keras.datasets.cifar10.load_data()"
   ]
  },
  {
   "cell_type": "code",
   "execution_count": 3,
   "metadata": {},
   "outputs": [],
   "source": [
    "## 資料前處理\n",
    "def preproc_x(x, flatten=True):\n",
    "    x = x / 255.\n",
    "    if flatten:\n",
    "        x = x.reshape((len(x), -1))\n",
    "    return x\n",
    "\n",
    "def preproc_y(y, num_classes=10):\n",
    "    if y.shape[-1] == 1:\n",
    "        y = keras.utils.to_categorical(y, num_classes)\n",
    "    return y    "
   ]
  },
  {
   "cell_type": "code",
   "execution_count": 4,
   "metadata": {},
   "outputs": [],
   "source": [
    "x_train, y_train = train\n",
    "x_test, y_test = test\n",
    "\n",
    "# Preproc the inputs\n",
    "x_train = preproc_x(x_train)\n",
    "x_test = preproc_x(x_test)\n",
    "\n",
    "# Preprc the outputs\n",
    "y_train = preproc_y(y_train)\n",
    "y_test = preproc_y(y_test)"
   ]
  },
  {
   "cell_type": "code",
   "execution_count": 5,
   "metadata": {},
   "outputs": [],
   "source": [
    "from keras.layers import BatchNormalization\n",
    "\n",
    "\"\"\"\n",
    "建立神經網路，並加入 BN layer\n",
    "\"\"\"\n",
    "def build_mlp(input_shape, output_units=10, num_neurons=[512, 256, 128]):\n",
    "    input_layer = keras.layers.Input(input_shape)\n",
    "    \n",
    "    for i, n_units in enumerate(num_neurons):\n",
    "        if i == 0:\n",
    "            x = keras.layers.Dense(units=n_units, \n",
    "                                   activation=\"relu\", \n",
    "                                   name=\"hidden_layer\"+str(i+1))(input_layer)\n",
    "            x = BatchNormalization()(x)\n",
    "        else:\n",
    "            x = keras.layers.Dense(units=n_units, \n",
    "                                   activation=\"relu\", \n",
    "                                   name=\"hidden_layer\"+str(i+1))(x)\n",
    "            x = BatchNormalization()(x)\n",
    "    \n",
    "    out = keras.layers.Dense(units=output_units, activation=\"softmax\", name=\"output\")(x)\n",
    "    \n",
    "    model = keras.models.Model(inputs=[input_layer], outputs=[out])\n",
    "    return model"
   ]
  },
  {
   "cell_type": "code",
   "execution_count": 6,
   "metadata": {},
   "outputs": [],
   "source": [
    "\"\"\"Code Here\n",
    "設定超參數\n",
    "\"\"\"\n",
    "LEARNING_RATE = 1e-3\n",
    "EPOCHS = 50\n",
    "BATCH_SIZE = 1024\n",
    "MOMENTUM = 0.95"
   ]
  },
  {
   "cell_type": "code",
   "execution_count": 7,
   "metadata": {},
   "outputs": [
    {
     "name": "stderr",
     "output_type": "stream",
     "text": [
      "WARNING: Logging before flag parsing goes to stderr.\n",
      "W0725 13:46:36.645006 16700 deprecation_wrapper.py:119] From C:\\Users\\sabri\\Anaconda3\\lib\\site-packages\\keras\\backend\\tensorflow_backend.py:74: The name tf.get_default_graph is deprecated. Please use tf.compat.v1.get_default_graph instead.\n",
      "\n",
      "W0725 13:46:36.720768 16700 deprecation_wrapper.py:119] From C:\\Users\\sabri\\Anaconda3\\lib\\site-packages\\keras\\backend\\tensorflow_backend.py:517: The name tf.placeholder is deprecated. Please use tf.compat.v1.placeholder instead.\n",
      "\n",
      "W0725 13:46:36.759665 16700 deprecation_wrapper.py:119] From C:\\Users\\sabri\\Anaconda3\\lib\\site-packages\\keras\\backend\\tensorflow_backend.py:4138: The name tf.random_uniform is deprecated. Please use tf.random.uniform instead.\n",
      "\n",
      "W0725 13:46:36.914286 16700 deprecation_wrapper.py:119] From C:\\Users\\sabri\\Anaconda3\\lib\\site-packages\\keras\\backend\\tensorflow_backend.py:133: The name tf.placeholder_with_default is deprecated. Please use tf.compat.v1.placeholder_with_default instead.\n",
      "\n",
      "W0725 13:46:37.149657 16700 deprecation_wrapper.py:119] From C:\\Users\\sabri\\Anaconda3\\lib\\site-packages\\keras\\optimizers.py:790: The name tf.train.Optimizer is deprecated. Please use tf.compat.v1.train.Optimizer instead.\n",
      "\n",
      "W0725 13:46:37.159595 16700 deprecation_wrapper.py:119] From C:\\Users\\sabri\\Anaconda3\\lib\\site-packages\\keras\\backend\\tensorflow_backend.py:3295: The name tf.log is deprecated. Please use tf.math.log instead.\n",
      "\n",
      "W0725 13:46:37.283264 16700 deprecation.py:323] From C:\\Users\\sabri\\Anaconda3\\lib\\site-packages\\tensorflow\\python\\ops\\math_grad.py:1250: add_dispatch_support.<locals>.wrapper (from tensorflow.python.ops.array_ops) is deprecated and will be removed in a future version.\n",
      "Instructions for updating:\n",
      "Use tf.where in 2.0, which has the same broadcast rule as np.where\n"
     ]
    },
    {
     "name": "stdout",
     "output_type": "stream",
     "text": [
      "_________________________________________________________________\n",
      "Layer (type)                 Output Shape              Param #   \n",
      "=================================================================\n",
      "input_1 (InputLayer)         (None, 3072)              0         \n",
      "_________________________________________________________________\n",
      "hidden_layer1 (Dense)        (None, 512)               1573376   \n",
      "_________________________________________________________________\n",
      "batch_normalization_1 (Batch (None, 512)               2048      \n",
      "_________________________________________________________________\n",
      "hidden_layer2 (Dense)        (None, 256)               131328    \n",
      "_________________________________________________________________\n",
      "batch_normalization_2 (Batch (None, 256)               1024      \n",
      "_________________________________________________________________\n",
      "hidden_layer3 (Dense)        (None, 128)               32896     \n",
      "_________________________________________________________________\n",
      "batch_normalization_3 (Batch (None, 128)               512       \n",
      "_________________________________________________________________\n",
      "output (Dense)               (None, 10)                1290      \n",
      "=================================================================\n",
      "Total params: 1,742,474\n",
      "Trainable params: 1,740,682\n",
      "Non-trainable params: 1,792\n",
      "_________________________________________________________________\n",
      "Train on 50000 samples, validate on 10000 samples\n",
      "Epoch 1/50\n",
      "50000/50000 [==============================] - 9s 171us/step - loss: 2.2633 - acc: 0.2616 - val_loss: 2.1090 - val_acc: 0.3170\n",
      "Epoch 2/50\n",
      " 1024/50000 [..............................] - ETA: 7s - loss: 1.8501 - acc: 0.3574"
     ]
    },
    {
     "name": "stderr",
     "output_type": "stream",
     "text": [
      "C:\\Users\\sabri\\Anaconda3\\lib\\site-packages\\keras\\callbacks.py:569: RuntimeWarning: Early stopping conditioned on metric `val_accuracy` which is not available. Available metrics are: val_loss,val_acc,loss,acc\n",
      "  (self.monitor, ','.join(list(logs.keys()))), RuntimeWarning\n"
     ]
    },
    {
     "name": "stdout",
     "output_type": "stream",
     "text": [
      "50000/50000 [==============================] - 7s 142us/step - loss: 1.7514 - acc: 0.3913 - val_loss: 1.8284 - val_acc: 0.3779\n",
      "Epoch 3/50\n",
      "50000/50000 [==============================] - 7s 146us/step - loss: 1.6220 - acc: 0.4342 - val_loss: 1.6984 - val_acc: 0.4147\n",
      "Epoch 4/50\n",
      "50000/50000 [==============================] - 7s 141us/step - loss: 1.5449 - acc: 0.4598 - val_loss: 1.6406 - val_acc: 0.4302\n",
      "Epoch 5/50\n",
      "50000/50000 [==============================] - 7s 146us/step - loss: 1.4910 - acc: 0.4771 - val_loss: 1.6069 - val_acc: 0.4384\n",
      "Epoch 6/50\n",
      "50000/50000 [==============================] - 7s 142us/step - loss: 1.4427 - acc: 0.4966 - val_loss: 1.5801 - val_acc: 0.4509\n",
      "Epoch 7/50\n",
      "50000/50000 [==============================] - 7s 137us/step - loss: 1.4030 - acc: 0.5095 - val_loss: 1.5510 - val_acc: 0.4580\n",
      "Epoch 8/50\n",
      "50000/50000 [==============================] - 8s 165us/step - loss: 1.3689 - acc: 0.5225 - val_loss: 1.5370 - val_acc: 0.4629\n",
      "Epoch 9/50\n",
      "50000/50000 [==============================] - 7s 134us/step - loss: 1.3365 - acc: 0.5354 - val_loss: 1.5162 - val_acc: 0.4699\n",
      "Epoch 10/50\n",
      "50000/50000 [==============================] - 7s 132us/step - loss: 1.3061 - acc: 0.5465 - val_loss: 1.5079 - val_acc: 0.4701\n",
      "Epoch 11/50\n",
      "50000/50000 [==============================] - 7s 138us/step - loss: 1.2781 - acc: 0.5562 - val_loss: 1.4920 - val_acc: 0.4773\n",
      "Epoch 12/50\n",
      "50000/50000 [==============================] - 8s 154us/step - loss: 1.2529 - acc: 0.5661 - val_loss: 1.4939 - val_acc: 0.4762\n",
      "Epoch 13/50\n",
      "50000/50000 [==============================] - 7s 147us/step - loss: 1.2246 - acc: 0.5761 - val_loss: 1.4809 - val_acc: 0.4765\n",
      "Epoch 14/50\n",
      "50000/50000 [==============================] - 7s 135us/step - loss: 1.1999 - acc: 0.5859 - val_loss: 1.4697 - val_acc: 0.4816\n",
      "Epoch 15/50\n",
      "50000/50000 [==============================] - 7s 142us/step - loss: 1.1760 - acc: 0.5952 - val_loss: 1.4633 - val_acc: 0.4865\n",
      "Epoch 16/50\n",
      "50000/50000 [==============================] - 7s 144us/step - loss: 1.1533 - acc: 0.6042 - val_loss: 1.4764 - val_acc: 0.4837\n",
      "Epoch 17/50\n",
      "50000/50000 [==============================] - 7s 140us/step - loss: 1.1296 - acc: 0.6136 - val_loss: 1.4588 - val_acc: 0.4869\n",
      "Epoch 18/50\n",
      "50000/50000 [==============================] - 7s 142us/step - loss: 1.1055 - acc: 0.6220 - val_loss: 1.4526 - val_acc: 0.4924\n",
      "Epoch 19/50\n",
      "50000/50000 [==============================] - 8s 150us/step - loss: 1.0853 - acc: 0.6299 - val_loss: 1.4699 - val_acc: 0.4852\n",
      "Epoch 20/50\n",
      "50000/50000 [==============================] - 8s 165us/step - loss: 1.0623 - acc: 0.6376 - val_loss: 1.4590 - val_acc: 0.4919\n",
      "Epoch 21/50\n",
      "50000/50000 [==============================] - 8s 155us/step - loss: 1.0405 - acc: 0.6475 - val_loss: 1.4567 - val_acc: 0.4925\n",
      "Epoch 22/50\n",
      "50000/50000 [==============================] - 8s 158us/step - loss: 1.0182 - acc: 0.6545 - val_loss: 1.4481 - val_acc: 0.4913\n",
      "Epoch 23/50\n",
      "50000/50000 [==============================] - 8s 156us/step - loss: 0.9980 - acc: 0.6620 - val_loss: 1.4605 - val_acc: 0.4904\n",
      "Epoch 24/50\n",
      "50000/50000 [==============================] - 8s 156us/step - loss: 0.9764 - acc: 0.6735 - val_loss: 1.4742 - val_acc: 0.4907\n",
      "Epoch 25/50\n",
      "50000/50000 [==============================] - 8s 166us/step - loss: 0.9559 - acc: 0.6787 - val_loss: 1.4571 - val_acc: 0.4955\n",
      "Epoch 26/50\n",
      "50000/50000 [==============================] - 7s 149us/step - loss: 0.9353 - acc: 0.6880 - val_loss: 1.4525 - val_acc: 0.5030\n",
      "Epoch 27/50\n",
      "50000/50000 [==============================] - 7s 140us/step - loss: 0.9138 - acc: 0.6970 - val_loss: 1.4619 - val_acc: 0.5009\n",
      "Epoch 28/50\n",
      "50000/50000 [==============================] - 7s 138us/step - loss: 0.8947 - acc: 0.7052 - val_loss: 1.4865 - val_acc: 0.4939\n",
      "Epoch 29/50\n",
      "50000/50000 [==============================] - 7s 148us/step - loss: 0.8743 - acc: 0.7118 - val_loss: 1.4695 - val_acc: 0.4972\n",
      "Epoch 30/50\n",
      "50000/50000 [==============================] - 7s 150us/step - loss: 0.8562 - acc: 0.7198 - val_loss: 1.4813 - val_acc: 0.4936\n",
      "Epoch 31/50\n",
      "50000/50000 [==============================] - 7s 139us/step - loss: 0.8371 - acc: 0.7284 - val_loss: 1.4928 - val_acc: 0.4956\n",
      "Epoch 32/50\n",
      "50000/50000 [==============================] - 7s 143us/step - loss: 0.8180 - acc: 0.7346 - val_loss: 1.5090 - val_acc: 0.4919\n",
      "Epoch 33/50\n",
      "50000/50000 [==============================] - 7s 145us/step - loss: 0.7973 - acc: 0.7435 - val_loss: 1.5099 - val_acc: 0.4916\n",
      "Epoch 34/50\n",
      "50000/50000 [==============================] - 7s 136us/step - loss: 0.7790 - acc: 0.7500 - val_loss: 1.5134 - val_acc: 0.4915\n",
      "Epoch 35/50\n",
      "50000/50000 [==============================] - 7s 148us/step - loss: 0.7589 - acc: 0.7576 - val_loss: 1.5318 - val_acc: 0.4938\n",
      "Epoch 36/50\n",
      "50000/50000 [==============================] - 7s 141us/step - loss: 0.7432 - acc: 0.7629 - val_loss: 1.5275 - val_acc: 0.4971\n",
      "Epoch 37/50\n",
      "50000/50000 [==============================] - 8s 152us/step - loss: 0.7217 - acc: 0.7719 - val_loss: 1.5309 - val_acc: 0.4969\n",
      "Epoch 38/50\n",
      "50000/50000 [==============================] - 8s 164us/step - loss: 0.7018 - acc: 0.7793 - val_loss: 1.5402 - val_acc: 0.4924\n",
      "Epoch 39/50\n",
      "50000/50000 [==============================] - 8s 165us/step - loss: 0.6871 - acc: 0.7855 - val_loss: 1.5544 - val_acc: 0.4943\n",
      "Epoch 40/50\n",
      "50000/50000 [==============================] - 7s 148us/step - loss: 0.6680 - acc: 0.7932 - val_loss: 1.5749 - val_acc: 0.4907\n",
      "Epoch 41/50\n",
      "50000/50000 [==============================] - 7s 150us/step - loss: 0.6495 - acc: 0.8007 - val_loss: 1.5551 - val_acc: 0.4942\n",
      "Epoch 42/50\n",
      "50000/50000 [==============================] - 8s 157us/step - loss: 0.6330 - acc: 0.8056 - val_loss: 1.5737 - val_acc: 0.4912\n",
      "Epoch 43/50\n",
      "50000/50000 [==============================] - 8s 152us/step - loss: 0.6123 - acc: 0.8157 - val_loss: 1.6058 - val_acc: 0.4923\n",
      "Epoch 44/50\n",
      "50000/50000 [==============================] - 7s 141us/step - loss: 0.5951 - acc: 0.8224 - val_loss: 1.6192 - val_acc: 0.4863\n",
      "Epoch 45/50\n",
      "50000/50000 [==============================] - 9s 177us/step - loss: 0.5792 - acc: 0.8281 - val_loss: 1.6017 - val_acc: 0.4933\n",
      "Epoch 46/50\n",
      "50000/50000 [==============================] - 9s 178us/step - loss: 0.5619 - acc: 0.8352 - val_loss: 1.6240 - val_acc: 0.4913\n",
      "Epoch 47/50\n",
      "50000/50000 [==============================] - 8s 157us/step - loss: 0.5450 - acc: 0.8428 - val_loss: 1.6478 - val_acc: 0.4898\n",
      "Epoch 48/50\n",
      "50000/50000 [==============================] - 7s 147us/step - loss: 0.5282 - acc: 0.8466 - val_loss: 1.6514 - val_acc: 0.4908\n",
      "Epoch 49/50\n",
      "50000/50000 [==============================] - 7s 141us/step - loss: 0.5125 - acc: 0.8541 - val_loss: 1.6591 - val_acc: 0.4932\n",
      "Epoch 50/50\n",
      "50000/50000 [==============================] - 8s 150us/step - loss: 0.4981 - acc: 0.8584 - val_loss: 1.6796 - val_acc: 0.4918\n"
     ]
    },
    {
     "data": {
      "text/plain": [
       "'Code Here\\n撰寫你的訓練流程並將結果用 dictionary 紀錄\\n'"
      ]
     },
     "execution_count": 7,
     "metadata": {},
     "output_type": "execute_result"
    }
   ],
   "source": [
    "# 載入 Callbacks\n",
    "\"\"\"Code Here\n",
    "設定 callbacks: Earlystop\n",
    "\"\"\"\n",
    "from keras.callbacks import EarlyStopping\n",
    "\n",
    "earlystop = EarlyStopping(monitor=\"val_accuracy\", \n",
    "                          patience=10, \n",
    "                          verbose=1\n",
    "                          )\n",
    "model = build_mlp(input_shape=x_train.shape[1:])\n",
    "model.summary()\n",
    "optimizer = keras.optimizers.SGD(lr=LEARNING_RATE, nesterov=True, momentum=MOMENTUM)\n",
    "model.compile(loss=\"categorical_crossentropy\", metrics=[\"accuracy\"], optimizer=optimizer)\n",
    "\n",
    "model.fit(x_train, y_train, \n",
    "          epochs=EPOCHS, \n",
    "          batch_size=BATCH_SIZE, \n",
    "          validation_data=(x_test, y_test), \n",
    "          shuffle=True,\n",
    "          callbacks=[earlystop]\n",
    "         )\n",
    "\n",
    "# Collect results\n",
    "train_loss = model.history.history[\"loss\"]\n",
    "valid_loss = model.history.history[\"val_loss\"]\n",
    "train_acc = model.history.history[\"acc\"]\n",
    "valid_acc = model.history.history[\"val_acc\"]\n",
    "results = {}\n",
    "\"\"\"Code Here\n",
    "撰寫你的訓練流程並將結果用 dictionary 紀錄\n",
    "\"\"\""
   ]
  },
  {
   "cell_type": "code",
   "execution_count": 8,
   "metadata": {},
   "outputs": [
    {
     "data": {
      "image/png": "[encoded data removed]",
      "text/plain": [
       "<Figure size 432x288 with 1 Axes>"
      ]
     },
     "metadata": {
      "needs_background": "light"
     },
     "output_type": "display_data"
    },
    {
     "data": {
      "image/png": "[encoded data removed]",
      "text/plain": [
       "<Figure size 432x288 with 1 Axes>"
      ]
     },
     "metadata": {
      "needs_background": "light"
     },
     "output_type": "display_data"
    }
   ],
   "source": [
    "import matplotlib.pyplot as plt\n",
    "%matplotlib inline\n",
    "\"\"\"Code Here\n",
    "將結果繪出\n",
    "\"\"\"\n",
    "plt.plot(range(len(train_loss)), train_loss, label=\"train loss\")\n",
    "plt.plot(range(len(valid_loss)), valid_loss, label=\"valid loss\")\n",
    "plt.legend()\n",
    "plt.title(\"Loss\")\n",
    "plt.show()\n",
    "\n",
    "plt.plot(range(len(train_acc)), train_acc, label=\"train accuracy\")\n",
    "plt.plot(range(len(valid_acc)), valid_acc, label=\"valid accuracy\")\n",
    "plt.legend()\n",
    "plt.title(\"Accuracy\")\n",
    "plt.show()"
   ]
  },
  {
   "cell_type": "code",
   "execution_count": 9,
   "metadata": {},
   "outputs": [
    {
     "name": "stdout",
     "output_type": "stream",
     "text": [
      "_________________________________________________________________\n",
      "Layer (type)                 Output Shape              Param #   \n",
      "=================================================================\n",
      "input_2 (InputLayer)         (None, 3072)              0         \n",
      "_________________________________________________________________\n",
      "hidden_layer1 (Dense)        (None, 512)               1573376   \n",
      "_________________________________________________________________\n",
      "batch_normalization_4 (Batch (None, 512)               2048      \n",
      "_________________________________________________________________\n",
      "hidden_layer2 (Dense)        (None, 256)               131328    \n",
      "_________________________________________________________________\n",
      "batch_normalization_5 (Batch (None, 256)               1024      \n",
      "_________________________________________________________________\n",
      "hidden_layer3 (Dense)        (None, 128)               32896     \n",
      "_________________________________________________________________\n",
      "batch_normalization_6 (Batch (None, 128)               512       \n",
      "_________________________________________________________________\n",
      "output (Dense)               (None, 10)                1290      \n",
      "=================================================================\n",
      "Total params: 1,742,474\n",
      "Trainable params: 1,740,682\n",
      "Non-trainable params: 1,792\n",
      "_________________________________________________________________\n",
      "Train on 50000 samples, validate on 10000 samples\n",
      "Epoch 1/50\n",
      "50000/50000 [==============================] - 9s 182us/step - loss: 2.2260 - acc: 0.2680 - val_loss: 2.0921 - val_acc: 0.3069\n",
      "Epoch 2/50\n",
      " 1024/50000 [..............................] - ETA: 5s - loss: 1.7993 - acc: 0.3662"
     ]
    },
    {
     "name": "stderr",
     "output_type": "stream",
     "text": [
      "C:\\Users\\sabri\\Anaconda3\\lib\\site-packages\\keras\\callbacks.py:569: RuntimeWarning: Early stopping conditioned on metric `val_accuracy` which is not available. Available metrics are: val_loss,val_acc,loss,acc\n",
      "  (self.monitor, ','.join(list(logs.keys()))), RuntimeWarning\n"
     ]
    },
    {
     "name": "stdout",
     "output_type": "stream",
     "text": [
      "50000/50000 [==============================] - 7s 143us/step - loss: 1.7497 - acc: 0.3910 - val_loss: 1.8309 - val_acc: 0.3689\n",
      "Epoch 3/50\n",
      "50000/50000 [==============================] - 8s 153us/step - loss: 1.6223 - acc: 0.4311 - val_loss: 1.6986 - val_acc: 0.4115\n",
      "Epoch 4/50\n",
      "50000/50000 [==============================] - 8s 152us/step - loss: 1.5479 - acc: 0.4591 - val_loss: 1.6181 - val_acc: 0.4327\n",
      "Epoch 5/50\n",
      "50000/50000 [==============================] - 8s 151us/step - loss: 1.4915 - acc: 0.4784 - val_loss: 1.5895 - val_acc: 0.4442\n",
      "Epoch 6/50\n",
      "50000/50000 [==============================] - 7s 139us/step - loss: 1.4456 - acc: 0.4955 - val_loss: 1.5644 - val_acc: 0.4447\n",
      "Epoch 7/50\n",
      "50000/50000 [==============================] - 7s 141us/step - loss: 1.4067 - acc: 0.5085 - val_loss: 1.5400 - val_acc: 0.4544\n",
      "Epoch 8/50\n",
      "50000/50000 [==============================] - 8s 152us/step - loss: 1.3688 - acc: 0.5242 - val_loss: 1.5184 - val_acc: 0.4641\n",
      "Epoch 9/50\n",
      "50000/50000 [==============================] - 8s 153us/step - loss: 1.3376 - acc: 0.5364 - val_loss: 1.5099 - val_acc: 0.4668\n",
      "Epoch 10/50\n",
      "50000/50000 [==============================] - 8s 157us/step - loss: 1.3064 - acc: 0.5479 - val_loss: 1.4961 - val_acc: 0.4749\n",
      "Epoch 11/50\n",
      "50000/50000 [==============================] - 7s 146us/step - loss: 1.2788 - acc: 0.5582 - val_loss: 1.4946 - val_acc: 0.4714\n",
      "Epoch 12/50\n",
      "50000/50000 [==============================] - 7s 143us/step - loss: 1.2544 - acc: 0.5664 - val_loss: 1.4856 - val_acc: 0.4727\n",
      "Epoch 13/50\n",
      "50000/50000 [==============================] - 7s 140us/step - loss: 1.2285 - acc: 0.5739 - val_loss: 1.4721 - val_acc: 0.4824\n",
      "Epoch 14/50\n",
      "50000/50000 [==============================] - 8s 162us/step - loss: 1.2014 - acc: 0.5866 - val_loss: 1.4632 - val_acc: 0.4813\n",
      "Epoch 15/50\n",
      "50000/50000 [==============================] - 8s 153us/step - loss: 1.1779 - acc: 0.5947 - val_loss: 1.4613 - val_acc: 0.4848\n",
      "Epoch 16/50\n",
      "50000/50000 [==============================] - 7s 150us/step - loss: 1.1544 - acc: 0.6023 - val_loss: 1.4664 - val_acc: 0.4841\n",
      "Epoch 17/50\n",
      "50000/50000 [==============================] - 7s 139us/step - loss: 1.1310 - acc: 0.6111 - val_loss: 1.4563 - val_acc: 0.4847\n",
      "Epoch 18/50\n",
      "50000/50000 [==============================] - 7s 150us/step - loss: 1.1090 - acc: 0.6200 - val_loss: 1.4498 - val_acc: 0.4841\n",
      "Epoch 19/50\n",
      "50000/50000 [==============================] - 7s 136us/step - loss: 1.0862 - acc: 0.6286 - val_loss: 1.4491 - val_acc: 0.4893\n",
      "Epoch 20/50\n",
      "50000/50000 [==============================] - 8s 158us/step - loss: 1.0665 - acc: 0.6342 - val_loss: 1.4529 - val_acc: 0.4926\n",
      "Epoch 21/50\n",
      "50000/50000 [==============================] - 8s 153us/step - loss: 1.0456 - acc: 0.6451 - val_loss: 1.4532 - val_acc: 0.4884\n",
      "Epoch 22/50\n",
      "50000/50000 [==============================] - 7s 141us/step - loss: 1.0236 - acc: 0.6538 - val_loss: 1.4585 - val_acc: 0.4871\n",
      "Epoch 23/50\n",
      "50000/50000 [==============================] - 7s 143us/step - loss: 1.0025 - acc: 0.6597 - val_loss: 1.4531 - val_acc: 0.4948\n",
      "Epoch 24/50\n",
      "50000/50000 [==============================] - 7s 145us/step - loss: 0.9805 - acc: 0.6700 - val_loss: 1.4626 - val_acc: 0.4885\n",
      "Epoch 25/50\n",
      "50000/50000 [==============================] - 8s 155us/step - loss: 0.9605 - acc: 0.6761 - val_loss: 1.4588 - val_acc: 0.4927\n",
      "Epoch 26/50\n",
      "50000/50000 [==============================] - 7s 142us/step - loss: 0.9414 - acc: 0.6839 - val_loss: 1.4633 - val_acc: 0.4927\n",
      "Epoch 27/50\n",
      "50000/50000 [==============================] - 7s 145us/step - loss: 0.9216 - acc: 0.6940 - val_loss: 1.4624 - val_acc: 0.4997\n",
      "Epoch 28/50\n",
      "50000/50000 [==============================] - 8s 155us/step - loss: 0.9013 - acc: 0.6988 - val_loss: 1.4706 - val_acc: 0.4947\n",
      "Epoch 29/50\n",
      "50000/50000 [==============================] - 7s 141us/step - loss: 0.8829 - acc: 0.7082 - val_loss: 1.4635 - val_acc: 0.4976\n",
      "Epoch 30/50\n",
      "50000/50000 [==============================] - 7s 141us/step - loss: 0.8621 - acc: 0.7163 - val_loss: 1.4814 - val_acc: 0.4925\n",
      "Epoch 31/50\n",
      "50000/50000 [==============================] - 7s 149us/step - loss: 0.8436 - acc: 0.7240 - val_loss: 1.5001 - val_acc: 0.4894\n",
      "Epoch 32/50\n",
      "50000/50000 [==============================] - 8s 151us/step - loss: 0.8220 - acc: 0.7343 - val_loss: 1.4919 - val_acc: 0.4892\n",
      "Epoch 33/50\n",
      "50000/50000 [==============================] - 7s 144us/step - loss: 0.8073 - acc: 0.7379 - val_loss: 1.5189 - val_acc: 0.4899\n",
      "Epoch 34/50\n",
      "50000/50000 [==============================] - 7s 147us/step - loss: 0.7854 - acc: 0.7464 - val_loss: 1.5061 - val_acc: 0.4956\n",
      "Epoch 35/50\n",
      "50000/50000 [==============================] - 7s 149us/step - loss: 0.7665 - acc: 0.7544 - val_loss: 1.5060 - val_acc: 0.4969\n",
      "Epoch 36/50\n",
      "50000/50000 [==============================] - 7s 147us/step - loss: 0.7488 - acc: 0.7609 - val_loss: 1.5188 - val_acc: 0.4945\n",
      "Epoch 37/50\n",
      "50000/50000 [==============================] - 7s 142us/step - loss: 0.7285 - acc: 0.7685 - val_loss: 1.5323 - val_acc: 0.4904\n",
      "Epoch 38/50\n",
      "50000/50000 [==============================] - 7s 136us/step - loss: 0.7096 - acc: 0.7768 - val_loss: 1.5324 - val_acc: 0.4934\n",
      "Epoch 39/50\n",
      "50000/50000 [==============================] - 7s 144us/step - loss: 0.6915 - acc: 0.7843 - val_loss: 1.5368 - val_acc: 0.4981\n",
      "Epoch 40/50\n",
      "50000/50000 [==============================] - 7s 143us/step - loss: 0.6741 - acc: 0.7900 - val_loss: 1.5483 - val_acc: 0.4947\n",
      "Epoch 41/50\n",
      "50000/50000 [==============================] - 7s 138us/step - loss: 0.6551 - acc: 0.7980 - val_loss: 1.5404 - val_acc: 0.5017\n",
      "Epoch 42/50\n",
      "50000/50000 [==============================] - 8s 161us/step - loss: 0.6383 - acc: 0.8066 - val_loss: 1.5644 - val_acc: 0.4935\n",
      "Epoch 43/50\n",
      "50000/50000 [==============================] - 7s 146us/step - loss: 0.6210 - acc: 0.8112 - val_loss: 1.5803 - val_acc: 0.4921\n",
      "Epoch 44/50\n",
      "50000/50000 [==============================] - 7s 147us/step - loss: 0.6037 - acc: 0.8185 - val_loss: 1.6144 - val_acc: 0.4897\n",
      "Epoch 45/50\n",
      "50000/50000 [==============================] - 7s 148us/step - loss: 0.5842 - acc: 0.8270 - val_loss: 1.6017 - val_acc: 0.4947\n",
      "Epoch 46/50\n",
      "50000/50000 [==============================] - 7s 137us/step - loss: 0.5681 - acc: 0.8333 - val_loss: 1.6138 - val_acc: 0.4909\n",
      "Epoch 47/50\n",
      "50000/50000 [==============================] - 7s 141us/step - loss: 0.5505 - acc: 0.8411 - val_loss: 1.6241 - val_acc: 0.4889\n",
      "Epoch 48/50\n",
      "50000/50000 [==============================] - 7s 135us/step - loss: 0.5334 - acc: 0.8471 - val_loss: 1.6259 - val_acc: 0.4906\n",
      "Epoch 49/50\n",
      "50000/50000 [==============================] - 7s 133us/step - loss: 0.5183 - acc: 0.8523 - val_loss: 1.6389 - val_acc: 0.4907\n",
      "Epoch 50/50\n",
      "50000/50000 [==============================] - 7s 144us/step - loss: 0.5015 - acc: 0.8600 - val_loss: 1.6725 - val_acc: 0.4868\n"
     ]
    },
    {
     "data": {
      "text/plain": [
       "'Code Here\\n撰寫你的訓練流程並將結果用 dictionary 紀錄\\n'"
      ]
     },
     "execution_count": 9,
     "metadata": {},
     "output_type": "execute_result"
    }
   ],
   "source": [
    "# 載入 Callbacks\n",
    "\"\"\"Code Here\n",
    "設定 callbacks: Earlystop\n",
    "\"\"\"\n",
    "from keras.callbacks import EarlyStopping\n",
    "\n",
    "earlystop = EarlyStopping(monitor=\"val_accuracy\", \n",
    "                          patience=25, \n",
    "                          verbose=1\n",
    "                          )\n",
    "model = build_mlp(input_shape=x_train.shape[1:])\n",
    "model.summary()\n",
    "optimizer = keras.optimizers.SGD(lr=LEARNING_RATE, nesterov=True, momentum=MOMENTUM)\n",
    "model.compile(loss=\"categorical_crossentropy\", metrics=[\"accuracy\"], optimizer=optimizer)\n",
    "\n",
    "model.fit(x_train, y_train, \n",
    "          epochs=EPOCHS, \n",
    "          batch_size=BATCH_SIZE, \n",
    "          validation_data=(x_test, y_test), \n",
    "          shuffle=True,\n",
    "          callbacks=[earlystop]\n",
    "         )\n",
    "\n",
    "# Collect results\n",
    "train_loss = model.history.history[\"loss\"]\n",
    "valid_loss = model.history.history[\"val_loss\"]\n",
    "train_acc = model.history.history[\"acc\"]\n",
    "valid_acc = model.history.history[\"val_acc\"]\n",
    "results = {}\n",
    "\"\"\"Code Here\n",
    "撰寫你的訓練流程並將結果用 dictionary 紀錄\n",
    "\"\"\""
   ]
  },
  {
   "cell_type": "code",
   "execution_count": 10,
   "metadata": {},
   "outputs": [
    {
     "data": {
      "image/png": "[encoded data removed]",
      "text/plain": [
       "<Figure size 432x288 with 1 Axes>"
      ]
     },
     "metadata": {
      "needs_background": "light"
     },
     "output_type": "display_data"
    },
    {
     "data": {
      "image/png": "[encoded data removed]",
      "text/plain": [
       "<Figure size 432x288 with 1 Axes>"
      ]
     },
     "metadata": {
      "needs_background": "light"
     },
     "output_type": "display_data"
    }
   ],
   "source": [
    "import matplotlib.pyplot as plt\n",
    "%matplotlib inline\n",
    "\"\"\"Code Here\n",
    "將結果繪出\n",
    "\"\"\"\n",
    "plt.plot(range(len(train_loss)), train_loss, label=\"train loss\")\n",
    "plt.plot(range(len(valid_loss)), valid_loss, label=\"valid loss\")\n",
    "plt.legend()\n",
    "plt.title(\"Loss\")\n",
    "plt.show()\n",
    "\n",
    "plt.plot(range(len(train_acc)), train_acc, label=\"train accuracy\")\n",
    "plt.plot(range(len(valid_acc)), valid_acc, label=\"valid accuracy\")\n",
    "plt.legend()\n",
    "plt.title(\"Accuracy\")\n",
    "plt.show()"
   ]
  },
  {
   "cell_type": "code",
   "execution_count": null,
   "metadata": {},
   "outputs": [],
   "source": []
  }
 ],
 "metadata": {
  "kernelspec": {
   "display_name": "Python 3",
   "language": "python",
   "name": "python3"
  },
  "language_info": {
   "codemirror_mode": {
    "name": "ipython",
    "version": 3
   },
   "file_extension": ".py",
   "mimetype": "text/x-python",
   "name": "python",
   "nbconvert_exporter": "python",
   "pygments_lexer": "ipython3",
   "version": "3.7.3"
  }
 },
 "nbformat": 4,
 "nbformat_minor": 2
}
