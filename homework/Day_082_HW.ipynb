{
 "cells": [
  {
   "cell_type": "markdown",
   "metadata": {},
   "source": [
    "## Work\n",
    "1. 請比較使用不同層數以及不同 Dropout rate 對訓練的效果\n",
    "2. 將 optimizer 改成使用 Adam 並加上適當的 dropout rate 檢視結果"
   ]
  },
  {
   "cell_type": "code",
   "execution_count": 1,
   "metadata": {},
   "outputs": [
    {
     "name": "stderr",
     "output_type": "stream",
     "text": [
      "Using TensorFlow backend.\n"
     ]
    }
   ],
   "source": [
    "import os\n",
    "import keras\n",
    "import itertools\n",
    "# Disable GPU\n",
    "os.environ[\"CUDA_VISIBLE_DEVICES\"] = \"\""
   ]
  },
  {
   "cell_type": "code",
   "execution_count": 2,
   "metadata": {},
   "outputs": [],
   "source": [
    "train, test = keras.datasets.cifar10.load_data()"
   ]
  },
  {
   "cell_type": "code",
   "execution_count": 3,
   "metadata": {},
   "outputs": [],
   "source": [
    "## 資料前處理\n",
    "def preproc_x(x, flatten=True):\n",
    "    x = x / 255.\n",
    "    if flatten:\n",
    "        x = x.reshape((len(x), -1))\n",
    "    return x\n",
    "\n",
    "def preproc_y(y, num_classes=10):\n",
    "    if y.shape[-1] == 1:\n",
    "        y = keras.utils.to_categorical(y, num_classes)\n",
    "    return y    "
   ]
  },
  {
   "cell_type": "code",
   "execution_count": 4,
   "metadata": {},
   "outputs": [],
   "source": [
    "x_train, y_train = train\n",
    "x_test, y_test = test\n",
    "\n",
    "# Preproc the inputs\n",
    "x_train = preproc_x(x_train)\n",
    "x_test = preproc_x(x_test)\n",
    "\n",
    "# Preprc the outputs\n",
    "y_train = preproc_y(y_train)\n",
    "y_test = preproc_y(y_test)"
   ]
  },
  {
   "cell_type": "code",
   "execution_count": 5,
   "metadata": {},
   "outputs": [],
   "source": [
    "from keras.layers import Dropout\n",
    "\n",
    "\"\"\"\n",
    "建立神經網路，並加入 dropout layer\n",
    "\"\"\"\n",
    "def build_mlp(input_shape, output_units=10, num_neurons=[512, 256, 128], drp_ratio=0.1):\n",
    "    input_layer = keras.layers.Input(input_shape)\n",
    "    \n",
    "    for i, n_units in enumerate(num_neurons):\n",
    "        if i == 0:\n",
    "            x = keras.layers.Dense(units=n_units, \n",
    "                                   activation=\"relu\", \n",
    "                                   name=\"hidden_layer\"+str(i+1))(input_layer)\n",
    "            x = Dropout(drp_ratio)(x)\n",
    "        else:\n",
    "            x = keras.layers.Dense(units=n_units, \n",
    "                                   activation=\"relu\", \n",
    "                                   name=\"hidden_layer\"+str(i+1))(x)\n",
    "            x = Dropout(drp_ratio)(x)\n",
    "    \n",
    "    out = keras.layers.Dense(units=output_units, activation=\"softmax\", name=\"output\")(x)\n",
    "    \n",
    "    model = keras.models.Model(inputs=[input_layer], outputs=[out])\n",
    "    return model"
   ]
  },
  {
   "cell_type": "code",
   "execution_count": 6,
   "metadata": {},
   "outputs": [],
   "source": [
    "\"\"\"Code Here\n",
    "設定超參數\n",
    "\"\"\"\n",
    "LEARNING_RATE = 1e-3\n",
    "EPOCHS = 50\n",
    "BATCH_SIZE = 256\n",
    "MOMENTUM = 0.95\n",
    "Dropout_EXP = 0.25"
   ]
  },
  {
   "cell_type": "code",
   "execution_count": 7,
   "metadata": {
    "scrolled": true
   },
   "outputs": [
    {
     "name": "stderr",
     "output_type": "stream",
     "text": [
      "WARNING: Logging before flag parsing goes to stderr.\n",
      "W0725 11:24:27.192098 18572 deprecation_wrapper.py:119] From C:\\Users\\sabri\\Anaconda3\\lib\\site-packages\\keras\\backend\\tensorflow_backend.py:74: The name tf.get_default_graph is deprecated. Please use tf.compat.v1.get_default_graph instead.\n",
      "\n",
      "W0725 11:24:27.298810 18572 deprecation_wrapper.py:119] From C:\\Users\\sabri\\Anaconda3\\lib\\site-packages\\keras\\backend\\tensorflow_backend.py:517: The name tf.placeholder is deprecated. Please use tf.compat.v1.placeholder instead.\n",
      "\n",
      "W0725 11:24:27.337707 18572 deprecation_wrapper.py:119] From C:\\Users\\sabri\\Anaconda3\\lib\\site-packages\\keras\\backend\\tensorflow_backend.py:4138: The name tf.random_uniform is deprecated. Please use tf.random.uniform instead.\n",
      "\n",
      "W0725 11:24:27.386575 18572 deprecation_wrapper.py:119] From C:\\Users\\sabri\\Anaconda3\\lib\\site-packages\\keras\\backend\\tensorflow_backend.py:133: The name tf.placeholder_with_default is deprecated. Please use tf.compat.v1.placeholder_with_default instead.\n",
      "\n",
      "W0725 11:24:27.398579 18572 deprecation.py:506] From C:\\Users\\sabri\\Anaconda3\\lib\\site-packages\\keras\\backend\\tensorflow_backend.py:3445: calling dropout (from tensorflow.python.ops.nn_ops) with keep_prob is deprecated and will be removed in a future version.\n",
      "Instructions for updating:\n",
      "Please use `rate` instead of `keep_prob`. Rate should be set to `rate = 1 - keep_prob`.\n",
      "W0725 11:24:27.547147 18572 deprecation_wrapper.py:119] From C:\\Users\\sabri\\Anaconda3\\lib\\site-packages\\keras\\optimizers.py:790: The name tf.train.Optimizer is deprecated. Please use tf.compat.v1.train.Optimizer instead.\n",
      "\n",
      "W0725 11:24:27.559115 18572 deprecation_wrapper.py:119] From C:\\Users\\sabri\\Anaconda3\\lib\\site-packages\\keras\\backend\\tensorflow_backend.py:3295: The name tf.log is deprecated. Please use tf.math.log instead.\n",
      "\n",
      "W0725 11:24:27.698782 18572 deprecation.py:323] From C:\\Users\\sabri\\Anaconda3\\lib\\site-packages\\tensorflow\\python\\ops\\math_grad.py:1250: add_dispatch_support.<locals>.wrapper (from tensorflow.python.ops.array_ops) is deprecated and will be removed in a future version.\n",
      "Instructions for updating:\n",
      "Use tf.where in 2.0, which has the same broadcast rule as np.where\n"
     ]
    },
    {
     "name": "stdout",
     "output_type": "stream",
     "text": [
      "_________________________________________________________________\n",
      "Layer (type)                 Output Shape              Param #   \n",
      "=================================================================\n",
      "input_1 (InputLayer)         (None, 3072)              0         \n",
      "_________________________________________________________________\n",
      "hidden_layer1 (Dense)        (None, 512)               1573376   \n",
      "_________________________________________________________________\n",
      "dropout_1 (Dropout)          (None, 512)               0         \n",
      "_________________________________________________________________\n",
      "hidden_layer2 (Dense)        (None, 256)               131328    \n",
      "_________________________________________________________________\n",
      "dropout_2 (Dropout)          (None, 256)               0         \n",
      "_________________________________________________________________\n",
      "hidden_layer3 (Dense)        (None, 128)               32896     \n",
      "_________________________________________________________________\n",
      "dropout_3 (Dropout)          (None, 128)               0         \n",
      "_________________________________________________________________\n",
      "output (Dense)               (None, 10)                1290      \n",
      "=================================================================\n",
      "Total params: 1,738,890\n",
      "Trainable params: 1,738,890\n",
      "Non-trainable params: 0\n",
      "_________________________________________________________________\n",
      "Train on 50000 samples, validate on 10000 samples\n",
      "Epoch 1/50\n",
      "50000/50000 [==============================] - 11s 225us/step - loss: 2.1941 - acc: 0.1802 - val_loss: 2.0037 - val_acc: 0.2940\n",
      "Epoch 2/50\n",
      "50000/50000 [==============================] - 9s 190us/step - loss: 2.0073 - acc: 0.2673 - val_loss: 1.8806 - val_acc: 0.3339\n",
      "Epoch 3/50\n",
      "50000/50000 [==============================] - 10s 200us/step - loss: 1.9228 - acc: 0.3053 - val_loss: 1.8177 - val_acc: 0.3582\n",
      "Epoch 4/50\n",
      "50000/50000 [==============================] - 11s 216us/step - loss: 1.8670 - acc: 0.3264 - val_loss: 1.7587 - val_acc: 0.3817\n",
      "Epoch 5/50\n",
      "50000/50000 [==============================] - 11s 223us/step - loss: 1.8140 - acc: 0.3470 - val_loss: 1.7135 - val_acc: 0.3954\n",
      "Epoch 6/50\n",
      "50000/50000 [==============================] - 11s 218us/step - loss: 1.7812 - acc: 0.3617 - val_loss: 1.6786 - val_acc: 0.4050\n",
      "Epoch 7/50\n",
      "50000/50000 [==============================] - 9s 189us/step - loss: 1.7517 - acc: 0.3711 - val_loss: 1.6478 - val_acc: 0.4201\n",
      "Epoch 8/50\n",
      "50000/50000 [==============================] - 10s 202us/step - loss: 1.7242 - acc: 0.3802 - val_loss: 1.6245 - val_acc: 0.4253\n",
      "Epoch 9/50\n",
      "50000/50000 [==============================] - 11s 216us/step - loss: 1.7007 - acc: 0.3917 - val_loss: 1.6054 - val_acc: 0.4294\n",
      "Epoch 10/50\n",
      "50000/50000 [==============================] - 10s 203us/step - loss: 1.6776 - acc: 0.3994 - val_loss: 1.5760 - val_acc: 0.4428\n",
      "Epoch 11/50\n",
      "50000/50000 [==============================] - 10s 191us/step - loss: 1.6593 - acc: 0.4082 - val_loss: 1.5655 - val_acc: 0.4398\n",
      "Epoch 12/50\n",
      "50000/50000 [==============================] - 10s 201us/step - loss: 1.6399 - acc: 0.4178 - val_loss: 1.5537 - val_acc: 0.44521.6402 - acc: 0.4\n",
      "Epoch 13/50\n",
      "50000/50000 [==============================] - 10s 192us/step - loss: 1.6271 - acc: 0.4220 - val_loss: 1.5344 - val_acc: 0.4529\n",
      "Epoch 14/50\n",
      "50000/50000 [==============================] - 10s 198us/step - loss: 1.6090 - acc: 0.4289 - val_loss: 1.5324 - val_acc: 0.4621\n",
      "Epoch 15/50\n",
      "50000/50000 [==============================] - 10s 199us/step - loss: 1.5924 - acc: 0.4329 - val_loss: 1.5087 - val_acc: 0.4646\n",
      "Epoch 16/50\n",
      "50000/50000 [==============================] - 11s 210us/step - loss: 1.5815 - acc: 0.4378 - val_loss: 1.4962 - val_acc: 0.4676\n",
      "Epoch 17/50\n",
      "50000/50000 [==============================] - 10s 196us/step - loss: 1.5626 - acc: 0.4451 - val_loss: 1.4830 - val_acc: 0.4720\n",
      "Epoch 18/50\n",
      "50000/50000 [==============================] - 11s 214us/step - loss: 1.5522 - acc: 0.4479 - val_loss: 1.4766 - val_acc: 0.4756\n",
      "Epoch 19/50\n",
      "50000/50000 [==============================] - 10s 210us/step - loss: 1.5391 - acc: 0.4519 - val_loss: 1.4586 - val_acc: 0.4811\n",
      "Epoch 20/50\n",
      "50000/50000 [==============================] - 10s 199us/step - loss: 1.5271 - acc: 0.4541 - val_loss: 1.4503 - val_acc: 0.4825\n",
      "Epoch 21/50\n",
      "50000/50000 [==============================] - 10s 194us/step - loss: 1.5142 - acc: 0.4598 - val_loss: 1.4387 - val_acc: 0.4862\n",
      "Epoch 22/50\n",
      "50000/50000 [==============================] - 10s 203us/step - loss: 1.5045 - acc: 0.4651 - val_loss: 1.4336 - val_acc: 0.4871\n",
      "Epoch 23/50\n",
      "50000/50000 [==============================] - 10s 195us/step - loss: 1.4953 - acc: 0.4684 - val_loss: 1.4323 - val_acc: 0.4872\n",
      "Epoch 24/50\n",
      "50000/50000 [==============================] - 10s 203us/step - loss: 1.4847 - acc: 0.4693 - val_loss: 1.4236 - val_acc: 0.4943\n",
      "Epoch 25/50\n",
      "50000/50000 [==============================] - 10s 194us/step - loss: 1.4748 - acc: 0.4747 - val_loss: 1.4152 - val_acc: 0.4966\n",
      "Epoch 26/50\n",
      "50000/50000 [==============================] - 10s 210us/step - loss: 1.4647 - acc: 0.4788 - val_loss: 1.4090 - val_acc: 0.4991\n",
      "Epoch 27/50\n",
      "50000/50000 [==============================] - 11s 225us/step - loss: 1.4562 - acc: 0.4820 - val_loss: 1.4049 - val_acc: 0.5032\n",
      "Epoch 28/50\n",
      "50000/50000 [==============================] - 10s 206us/step - loss: 1.4483 - acc: 0.4828 - val_loss: 1.4017 - val_acc: 0.4966\n",
      "Epoch 29/50\n",
      "50000/50000 [==============================] - 11s 212us/step - loss: 1.4380 - acc: 0.4872 - val_loss: 1.3926 - val_acc: 0.5003\n",
      "Epoch 30/50\n",
      "50000/50000 [==============================] - 10s 198us/step - loss: 1.4311 - acc: 0.4912 - val_loss: 1.3836 - val_acc: 0.5080\n",
      "Epoch 31/50\n",
      "50000/50000 [==============================] - 10s 207us/step - loss: 1.4215 - acc: 0.4934 - val_loss: 1.3929 - val_acc: 0.5019\n",
      "Epoch 32/50\n",
      "50000/50000 [==============================] - 10s 195us/step - loss: 1.4117 - acc: 0.4946 - val_loss: 1.3810 - val_acc: 0.5084\n",
      "Epoch 33/50\n",
      "50000/50000 [==============================] - 10s 205us/step - loss: 1.4074 - acc: 0.4971 - val_loss: 1.3694 - val_acc: 0.5090\n",
      "Epoch 34/50\n",
      "50000/50000 [==============================] - 10s 194us/step - loss: 1.3959 - acc: 0.5018 - val_loss: 1.3737 - val_acc: 0.5052\n",
      "Epoch 35/50\n",
      "50000/50000 [==============================] - 10s 209us/step - loss: 1.3914 - acc: 0.5024 - val_loss: 1.3613 - val_acc: 0.5122\n",
      "Epoch 36/50\n",
      "50000/50000 [==============================] - 10s 195us/step - loss: 1.3874 - acc: 0.5067 - val_loss: 1.3584 - val_acc: 0.5095\n",
      "Epoch 37/50\n",
      "50000/50000 [==============================] - 11s 212us/step - loss: 1.3773 - acc: 0.5052 - val_loss: 1.3509 - val_acc: 0.5185\n",
      "Epoch 38/50\n",
      "50000/50000 [==============================] - 10s 195us/step - loss: 1.3700 - acc: 0.5101 - val_loss: 1.3473 - val_acc: 0.5231\n",
      "Epoch 39/50\n",
      "50000/50000 [==============================] - 11s 222us/step - loss: 1.3619 - acc: 0.5114 - val_loss: 1.3636 - val_acc: 0.5102\n",
      "Epoch 40/50\n",
      "50000/50000 [==============================] - 11s 223us/step - loss: 1.3517 - acc: 0.5142 - val_loss: 1.3497 - val_acc: 0.5169\n",
      "Epoch 41/50\n",
      "50000/50000 [==============================] - 11s 227us/step - loss: 1.3455 - acc: 0.5192 - val_loss: 1.3452 - val_acc: 0.5160\n",
      "Epoch 42/50\n",
      "50000/50000 [==============================] - 12s 238us/step - loss: 1.3387 - acc: 0.5222 - val_loss: 1.3384 - val_acc: 0.5239\n",
      "Epoch 43/50\n",
      "50000/50000 [==============================] - 12s 240us/step - loss: 1.3292 - acc: 0.5225 - val_loss: 1.3283 - val_acc: 0.5221\n",
      "Epoch 44/50\n",
      "50000/50000 [==============================] - 13s 255us/step - loss: 1.3287 - acc: 0.5231 - val_loss: 1.3318 - val_acc: 0.5208\n",
      "Epoch 45/50\n",
      "50000/50000 [==============================] - 12s 238us/step - loss: 1.3234 - acc: 0.5284 - val_loss: 1.3273 - val_acc: 0.5243\n",
      "Epoch 46/50\n",
      "50000/50000 [==============================] - 12s 237us/step - loss: 1.3155 - acc: 0.5304 - val_loss: 1.3229 - val_acc: 0.5299\n",
      "Epoch 47/50\n",
      "50000/50000 [==============================] - 11s 227us/step - loss: 1.3077 - acc: 0.5336 - val_loss: 1.3168 - val_acc: 0.5330\n",
      "Epoch 48/50\n",
      "50000/50000 [==============================] - 12s 230us/step - loss: 1.3022 - acc: 0.5347 - val_loss: 1.3165 - val_acc: 0.5292\n",
      "Epoch 49/50\n"
     ]
    },
    {
     "name": "stdout",
     "output_type": "stream",
     "text": [
      "50000/50000 [==============================] - 11s 215us/step - loss: 1.2980 - acc: 0.5369 - val_loss: 1.3148 - val_acc: 0.5331\n",
      "Epoch 50/50\n",
      "50000/50000 [==============================] - 10s 201us/step - loss: 1.2876 - acc: 0.5400 - val_loss: 1.3074 - val_acc: 0.5322\n"
     ]
    }
   ],
   "source": [
    "results = {}\n",
    "\"\"\"Code Here\n",
    "撰寫你的訓練流程並將結果用 dictionary 紀錄\n",
    "\"\"\"\n",
    "model = build_mlp(input_shape=x_train.shape[1:], drp_ratio=Dropout_EXP)\n",
    "model.summary()\n",
    "optimizer = keras.optimizers.SGD(lr=LEARNING_RATE, nesterov=True, momentum=MOMENTUM)\n",
    "model.compile(loss=\"categorical_crossentropy\", metrics=[\"accuracy\"], optimizer=optimizer)\n",
    "\n",
    "model.fit(x_train, y_train, \n",
    "          epochs=EPOCHS, \n",
    "          batch_size=BATCH_SIZE, \n",
    "          validation_data=(x_test, y_test), \n",
    "          shuffle=True)\n",
    "\n",
    "# Collect results\n",
    "train_loss = model.history.history[\"loss\"]\n",
    "valid_loss = model.history.history[\"val_loss\"]\n",
    "train_acc = model.history.history[\"acc\"]\n",
    "valid_acc = model.history.history[\"val_acc\"]"
   ]
  },
  {
   "cell_type": "code",
   "execution_count": 8,
   "metadata": {},
   "outputs": [
    {
     "data": {
      "image/png": "[encoded data removed]",
      "text/plain": [
       "<Figure size 432x288 with 1 Axes>"
      ]
     },
     "metadata": {
      "needs_background": "light"
     },
     "output_type": "display_data"
    },
    {
     "data": {
      "image/png": "[encoded data removed]",
      "text/plain": [
       "<Figure size 432x288 with 1 Axes>"
      ]
     },
     "metadata": {
      "needs_background": "light"
     },
     "output_type": "display_data"
    }
   ],
   "source": [
    "import matplotlib.pyplot as plt\n",
    "%matplotlib inline\n",
    "\"\"\"Code Here\n",
    "將結果繪出\n",
    "\"\"\"\n",
    "\n",
    "plt.plot(range(len(train_loss)), train_loss, label=\"train loss\")\n",
    "plt.plot(range(len(valid_loss)), valid_loss, label=\"valid loss\")\n",
    "plt.legend()\n",
    "plt.title(\"Loss\")\n",
    "plt.show()\n",
    "\n",
    "plt.plot(range(len(train_acc)), train_acc, label=\"train accuracy\")\n",
    "plt.plot(range(len(valid_acc)), valid_acc, label=\"valid accuracy\")\n",
    "plt.legend()\n",
    "plt.title(\"Accuracy\")\n",
    "plt.show()"
   ]
  }
 ],
 "metadata": {
  "kernelspec": {
   "display_name": "Python 3",
   "language": "python",
   "name": "python3"
  },
  "language_info": {
   "codemirror_mode": {
    "name": "ipython",
    "version": 3
   },
   "file_extension": ".py",
   "mimetype": "text/x-python",
   "name": "python",
   "nbconvert_exporter": "python",
   "pygments_lexer": "ipython3",
   "version": "3.7.3"
  }
 },
 "nbformat": 4,
 "nbformat_minor": 2
}
